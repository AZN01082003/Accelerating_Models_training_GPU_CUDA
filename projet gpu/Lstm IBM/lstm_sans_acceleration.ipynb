{
 "cells": [
  {
   "cell_type": "markdown",
   "metadata": {
    "_uuid": "340c411000d38f9d7e7cbfee7daf46d49571960a"
   },
   "source": [
    "# Aim and motivation\n",
    "The primary reason I have chosen to create this kernel is to practice and use RNNs for various tasks and applications. First of which is time series data. RNNs have truly changed the way sequential data is forecasted. My goal here is to create the ultimate reference for RNNs here on kaggle."
   ]
  },
  {
   "cell_type": "markdown",
   "metadata": {
    "_uuid": "04a6c8887c7716dab64ea9bf77197c263e12d06f"
   },
   "source": [
    "## Things to remember\n",
    "* Please upvote(like button) and share this kernel if you like it. This would increase its visibility and more people will be able to learn about the awesomeness of RNNs.\n",
    "* I will use keras for this kernel. If you are not familiar with keras or neural networks, refer to this kernel/tutorial of mine:  https://www.kaggle.com/thebrownviking20/intro-to-keras-with-breast-cancer-data-ann\n",
    "* Your doubts and curiousity about time series can be taken care of here: https://www.kaggle.com/thebrownviking20/everything-you-can-do-with-a-time-series\n",
    "* Don't let the explanations intimidate you. It's simpler than you think.\n",
    "* Eventually, I will add more applications of LSTMs. So stay tuned for more!\n",
    "* The code is inspired from Kirill Eremenko's Deep Learning Course: https://www.udemy.com/deeplearning/"
   ]
  },
  {
   "cell_type": "markdown",
   "metadata": {
    "_cell_guid": "b1076dfc-b9ad-4769-8c92-a6c4dae69d19",
    "_uuid": "8f2839f25d086af736a60e9eeb907d3b93b6e0e5",
    "collapsed": true,
    "jupyter": {
     "outputs_hidden": true
    },
    "trusted": true
   },
   "source": [
    "## Recurrent Neural Networks\n",
    "In a recurrent neural network we store the output activations from one or more of the layers of the network. Often these are hidden later activations. Then, the next time we feed an input example to the network, we include the previously-stored outputs as additional inputs. You can think of the additional inputs as being concatenated to the end of the “normal” inputs to the previous layer. For example, if a hidden layer had 10 regular input nodes and 128 hidden nodes in the layer, then it would actually have 138 total inputs (assuming you are feeding the layer’s outputs into itself à la Elman) rather than into another layer). Of course, the very first time you try to compute the output of the network you’ll need to fill in those extra 128 inputs with 0s or something.\n",
    "\n",
    "Source: [Quora](https://www.quora.com/What-is-a-simple-explanation-of-a-recurrent-neural-network)\n",
    "<img src=\"https://cdn-images-1.medium.com/max/1600/1*NKhwsOYNUT5xU7Pyf6Znhg.png\">\n",
    "\n",
    "Source: [Medium](https://medium.com/ai-journal/lstm-gru-recurrent-neural-networks-81fe2bcdf1f9)\n",
    "\n",
    "Let me give you the best explanation of Recurrent Neural Networks that I found on internet: https://www.youtube.com/watch?v=UNmqTiOnRfg&t=3s"
   ]
  },
  {
   "cell_type": "markdown",
   "metadata": {
    "_cell_guid": "79c7e3d0-c299-4dcb-8224-4455121ee9b0",
    "_uuid": "d629ff2d2480ee46fbb7e2d37f6b5fab8052498a",
    "collapsed": true,
    "jupyter": {
     "outputs_hidden": true
    },
    "trusted": false
   },
   "source": [
    "Now, even though RNNs are quite powerful, they suffer from  **Vanishing gradient problem ** which hinders them from using long term information, like they are good for storing memory 3-4 instances of past iterations but larger number of instances don't provide good results so we don't just use regular RNNs. Instead, we use a better variation of RNNs: **Long Short Term Networks(LSTM).**\n",
    "\n",
    "### What is Vanishing Gradient problem?\n",
    "Vanishing gradient problem is a difficulty found in training artificial neural networks with gradient-based learning methods and backpropagation. In such methods, each of the neural network's weights receives an update proportional to the partial derivative of the error function with respect to the current weight in each iteration of training. The problem is that in some cases, the gradient will be vanishingly small, effectively preventing the weight from changing its value. In the worst case, this may completely stop the neural network from further training. As one example of the problem cause, traditional activation functions such as the hyperbolic tangent function have gradients in the range (0, 1), and backpropagation computes gradients by the chain rule. This has the effect of multiplying n of these small numbers to compute gradients of the \"front\" layers in an n-layer network, meaning that the gradient (error signal) decreases exponentially with n while the front layers train very slowly.\n",
    "\n",
    "Source: [Wikipedia](https://en.wikipedia.org/wiki/Vanishing_gradient_problem)\n",
    "\n",
    "<img src=\"https://cdn-images-1.medium.com/max/1460/1*FWy4STsp8k0M5Yd8LifG_Q.png\">\n",
    "\n",
    "Source: [Medium](https://medium.com/@anishsingh20/the-vanishing-gradient-problem-48ae7f501257)"
   ]
  },
  {
   "cell_type": "markdown",
   "metadata": {
    "_uuid": "79ac683d1b85322f6ed4a564637914a8d803221b"
   },
   "source": [
    "## Long Short Term Memory(LSTM)\n",
    "Long short-term memory (LSTM) units (or blocks) are a building unit for layers of a recurrent neural network (RNN). A RNN composed of LSTM units is often called an LSTM network. A common LSTM unit is composed of a cell, an input gate, an output gate and a forget gate. The cell is responsible for \"remembering\" values over arbitrary time intervals; hence the word \"memory\" in LSTM. Each of the three gates can be thought of as a \"conventional\" artificial neuron, as in a multi-layer (or feedforward) neural network: that is, they compute an activation (using an activation function) of a weighted sum. Intuitively, they can be thought as regulators of the flow of values that goes through the connections of the LSTM; hence the denotation \"gate\". There are connections between these gates and the cell.\n",
    "\n",
    "The expression long short-term refers to the fact that LSTM is a model for the short-term memory which can last for a long period of time. An LSTM is well-suited to classify, process and predict time series given time lags of unknown size and duration between important events. LSTMs were developed to deal with the exploding and vanishing gradient problem when training traditional RNNs.\n",
    "\n",
    "Source: [Wikipedia](https://en.wikipedia.org/wiki/Long_short-term_memory)\n",
    "\n",
    "<img src=\"https://cdn-images-1.medium.com/max/1600/0*LyfY3Mow9eCYlj7o.\">\n",
    "\n",
    "Source: [Medium](https://codeburst.io/generating-text-using-an-lstm-network-no-libraries-2dff88a3968)\n",
    "\n",
    "The best LSTM explanation on internet: https://medium.com/deep-math-machine-learning-ai/chapter-10-1-deepnlp-lstm-long-short-term-memory-networks-with-math-21477f8e4235\n",
    "\n",
    "Refer above link for deeper insights."
   ]
  },
  {
   "cell_type": "markdown",
   "metadata": {
    "_uuid": "42c24cc294d93504880c5c76d383b491d89b29f1"
   },
   "source": [
    "## Components of LSTMs\n",
    "So the LSTM cell contains the following components\n",
    "* Forget Gate “f” ( a neural network with sigmoid)\n",
    "* Candidate layer “C\"(a NN with Tanh)\n",
    "* Input Gate “I” ( a NN with sigmoid )\n",
    "* Output Gate “O”( a NN with sigmoid)\n",
    "* Hidden state “H” ( a vector )\n",
    "* Memory state “C” ( a vector)\n",
    "\n",
    "* Inputs to the LSTM cell at any step are X<sub>t</sub> (current input) , H<sub>t-1</sub> (previous hidden state ) and C<sub>t-1</sub> (previous memory state).  \n",
    "* Outputs from the LSTM cell are H<sub>t</sub> (current hidden state ) and C<sub>t</sub> (current memory state)"
   ]
  },
  {
   "cell_type": "markdown",
   "metadata": {
    "_uuid": "e7f3771ce38c69191eb23681561744863ee30ea8"
   },
   "source": [
    "## Working of gates in LSTMs\n",
    "First, LSTM cell takes the previous memory state C<sub>t-1</sub> and does element wise multiplication with forget gate (f) to decide if  present memory state C<sub>t</sub>. If forget gate value is 0 then previous memory state is completely forgotten else f forget gate value is 1 then previous memory state is completely passed to the cell ( Remember f gate gives values between 0 and 1 ).\n",
    "\n",
    "**C<sub>t</sub> = C<sub>t-1</sub> * f<sub>t</sub>**\n",
    "\n",
    "Calculating the new memory state: \n",
    "\n",
    "**C<sub>t</sub> = C<sub>t</sub> + (I<sub>t</sub> * C\\`<sub>t</sub>)**\n",
    "\n",
    "Now, we calculate the output:\n",
    "\n",
    "**H<sub>t</sub> = tanh(C<sub>t</sub>)**"
   ]
  },
  {
   "cell_type": "markdown",
   "metadata": {
    "_uuid": "2f82cc24efc6283e5a98cadb78fc1a465e44c143",
    "collapsed": true,
    "jupyter": {
     "outputs_hidden": true
    },
    "trusted": true
   },
   "source": [
    "### And now we get to the code...\n",
    "I will use LSTMs for predicting the price of stocks of IBM for the year 2017"
   ]
  },
  {
   "cell_type": "code",
   "execution_count": 1,
   "metadata": {
    "_uuid": "da0236e4b36ce514c1fec3fd72f236d1fa259131",
    "execution": {
     "iopub.execute_input": "2025-01-06T01:07:24.621667Z",
     "iopub.status.busy": "2025-01-06T01:07:24.621367Z",
     "iopub.status.idle": "2025-01-06T01:07:25.641615Z",
     "shell.execute_reply": "2025-01-06T01:07:25.640643Z",
     "shell.execute_reply.started": "2025-01-06T01:07:24.621596Z"
    },
    "trusted": true
   },
   "outputs": [
    {
     "name": "stderr",
     "output_type": "stream",
     "text": [
      "Using TensorFlow backend.\n"
     ]
    }
   ],
   "source": [
    "# Importing the libraries\n",
    "import numpy as np\n",
    "import matplotlib.pyplot as plt\n",
    "plt.style.use('fivethirtyeight')\n",
    "import pandas as pd\n",
    "from sklearn.preprocessing import MinMaxScaler\n",
    "from keras.models import Sequential\n",
    "from keras.layers import Dense, LSTM, Dropout, GRU, Bidirectional\n",
    "from keras.optimizers import SGD\n",
    "import math\n",
    "from sklearn.metrics import mean_squared_error"
   ]
  },
  {
   "cell_type": "code",
   "execution_count": 3,
   "metadata": {
    "_uuid": "b288a8e2caf6196daec9cd2bc4ca78fe50345845",
    "execution": {
     "iopub.execute_input": "2025-01-06T01:09:18.482673Z",
     "iopub.status.busy": "2025-01-06T01:09:18.482309Z",
     "iopub.status.idle": "2025-01-06T01:09:18.488723Z",
     "shell.execute_reply": "2025-01-06T01:09:18.487827Z",
     "shell.execute_reply.started": "2025-01-06T01:09:18.482617Z"
    },
    "trusted": true
   },
   "outputs": [],
   "source": [
    "# Some functions to help out with\n",
    "def plot_predictions(test,predicted):\n",
    "    plt.plot(test, color='red',label='Real IBM Stock Price')\n",
    "    plt.plot(predicted, color='blue',label='Predicted IBM Stock Price')\n",
    "    plt.title('IBM Stock Price Prediction')\n",
    "    plt.xlabel('Time')\n",
    "    plt.ylabel('IBM Stock Price')\n",
    "    plt.legend()\n",
    "    plt.show()\n",
    "\n",
    "def return_rmse(test,predicted):\n",
    "    rmse = math.sqrt(mean_squared_error(test, predicted))\n",
    "    print(\"The root mean squared error is {}.\".format(rmse))"
   ]
  },
  {
   "cell_type": "code",
   "execution_count": 4,
   "metadata": {
    "_uuid": "4cf10cf27420eb383b93b15c0895139ea96c0ed3",
    "execution": {
     "iopub.execute_input": "2025-01-06T01:09:23.223907Z",
     "iopub.status.busy": "2025-01-06T01:09:23.223609Z",
     "iopub.status.idle": "2025-01-06T01:09:23.302436Z",
     "shell.execute_reply": "2025-01-06T01:09:23.301271Z",
     "shell.execute_reply.started": "2025-01-06T01:09:23.223858Z"
    },
    "trusted": true
   },
   "outputs": [
    {
     "data": {
      "text/html": [
       "<div>\n",
       "<style scoped>\n",
       "    .dataframe tbody tr th:only-of-type {\n",
       "        vertical-align: middle;\n",
       "    }\n",
       "\n",
       "    .dataframe tbody tr th {\n",
       "        vertical-align: top;\n",
       "    }\n",
       "\n",
       "    .dataframe thead th {\n",
       "        text-align: right;\n",
       "    }\n",
       "</style>\n",
       "<table border=\"1\" class=\"dataframe\">\n",
       "  <thead>\n",
       "    <tr style=\"text-align: right;\">\n",
       "      <th></th>\n",
       "      <th>Open</th>\n",
       "      <th>High</th>\n",
       "      <th>Low</th>\n",
       "      <th>Close</th>\n",
       "      <th>Volume</th>\n",
       "      <th>Name</th>\n",
       "    </tr>\n",
       "    <tr>\n",
       "      <th>Date</th>\n",
       "      <th></th>\n",
       "      <th></th>\n",
       "      <th></th>\n",
       "      <th></th>\n",
       "      <th></th>\n",
       "      <th></th>\n",
       "    </tr>\n",
       "  </thead>\n",
       "  <tbody>\n",
       "    <tr>\n",
       "      <th>2006-01-03</th>\n",
       "      <td>82.45</td>\n",
       "      <td>82.55</td>\n",
       "      <td>80.81</td>\n",
       "      <td>82.06</td>\n",
       "      <td>11715200</td>\n",
       "      <td>IBM</td>\n",
       "    </tr>\n",
       "    <tr>\n",
       "      <th>2006-01-04</th>\n",
       "      <td>82.20</td>\n",
       "      <td>82.50</td>\n",
       "      <td>81.33</td>\n",
       "      <td>81.95</td>\n",
       "      <td>9840600</td>\n",
       "      <td>IBM</td>\n",
       "    </tr>\n",
       "    <tr>\n",
       "      <th>2006-01-05</th>\n",
       "      <td>81.40</td>\n",
       "      <td>82.90</td>\n",
       "      <td>81.00</td>\n",
       "      <td>82.50</td>\n",
       "      <td>7213500</td>\n",
       "      <td>IBM</td>\n",
       "    </tr>\n",
       "    <tr>\n",
       "      <th>2006-01-06</th>\n",
       "      <td>83.95</td>\n",
       "      <td>85.03</td>\n",
       "      <td>83.41</td>\n",
       "      <td>84.95</td>\n",
       "      <td>8197400</td>\n",
       "      <td>IBM</td>\n",
       "    </tr>\n",
       "    <tr>\n",
       "      <th>2006-01-09</th>\n",
       "      <td>84.10</td>\n",
       "      <td>84.25</td>\n",
       "      <td>83.38</td>\n",
       "      <td>83.73</td>\n",
       "      <td>6858200</td>\n",
       "      <td>IBM</td>\n",
       "    </tr>\n",
       "  </tbody>\n",
       "</table>\n",
       "</div>"
      ],
      "text/plain": [
       "             Open   High    Low  Close    Volume Name\n",
       "Date                                                 \n",
       "2006-01-03  82.45  82.55  80.81  82.06  11715200  IBM\n",
       "2006-01-04  82.20  82.50  81.33  81.95   9840600  IBM\n",
       "2006-01-05  81.40  82.90  81.00  82.50   7213500  IBM\n",
       "2006-01-06  83.95  85.03  83.41  84.95   8197400  IBM\n",
       "2006-01-09  84.10  84.25  83.38  83.73   6858200  IBM"
      ]
     },
     "execution_count": 4,
     "metadata": {},
     "output_type": "execute_result"
    }
   ],
   "source": [
    "# First, we get the data\n",
    "dataset = pd.read_csv('../input/IBM_2006-01-01_to_2018-01-01.csv', index_col='Date', parse_dates=['Date'])\n",
    "dataset.head()"
   ]
  },
  {
   "cell_type": "code",
   "execution_count": 6,
   "metadata": {
    "_uuid": "fb4c9db6d8a5bcf20ffad41747cfa5b6215ba220",
    "execution": {
     "iopub.execute_input": "2025-01-06T01:09:31.436264Z",
     "iopub.status.busy": "2025-01-06T01:09:31.435814Z",
     "iopub.status.idle": "2025-01-06T01:09:31.444345Z",
     "shell.execute_reply": "2025-01-06T01:09:31.442990Z",
     "shell.execute_reply.started": "2025-01-06T01:09:31.436097Z"
    },
    "trusted": true
   },
   "outputs": [],
   "source": [
    "# Checking for missing values\n",
    "training_set = dataset[:'2016'].iloc[:,1:2].values\n",
    "test_set = dataset['2017':].iloc[:,1:2].values"
   ]
  },
  {
   "cell_type": "code",
   "execution_count": 7,
   "metadata": {
    "_uuid": "bf5a9463d58e73852d2b70be9611e8cf1f4166fd",
    "execution": {
     "iopub.execute_input": "2025-01-06T01:09:35.106905Z",
     "iopub.status.busy": "2025-01-06T01:09:35.106596Z",
     "iopub.status.idle": "2025-01-06T01:09:35.584156Z",
     "shell.execute_reply": "2025-01-06T01:09:35.583267Z",
     "shell.execute_reply.started": "2025-01-06T01:09:35.106857Z"
    },
    "trusted": true
   },
   "outputs": [
    {
     "data": {
      "image/png": "[encoded data removed]",
      "text/plain": [
       "<Figure size 1152x288 with 1 Axes>"
      ]
     },
     "metadata": {
      "needs_background": "light"
     },
     "output_type": "display_data"
    }
   ],
   "source": [
    "# We have chosen 'High' attribute for prices. Let's see what it looks like\n",
    "dataset[\"High\"][:'2016'].plot(figsize=(16,4),legend=True)\n",
    "dataset[\"High\"]['2017':].plot(figsize=(16,4),legend=True)\n",
    "plt.legend(['Training set (Before 2017)','Test set (2017 and beyond)'])\n",
    "plt.title('IBM stock price')\n",
    "plt.show()"
   ]
  },
  {
   "cell_type": "code",
   "execution_count": 9,
   "metadata": {
    "_uuid": "bcc9c36165fc07d258bd5ea87874d2da17fa4a4d",
    "execution": {
     "iopub.execute_input": "2025-01-06T01:09:56.944046Z",
     "iopub.status.busy": "2025-01-06T01:09:56.943729Z",
     "iopub.status.idle": "2025-01-06T01:09:56.949604Z",
     "shell.execute_reply": "2025-01-06T01:09:56.948553Z",
     "shell.execute_reply.started": "2025-01-06T01:09:56.943997Z"
    },
    "trusted": true
   },
   "outputs": [],
   "source": [
    "# Scaling the training set\n",
    "sc = MinMaxScaler(feature_range=(0,1))\n",
    "training_set_scaled = sc.fit_transform(training_set)"
   ]
  },
  {
   "cell_type": "code",
   "execution_count": 10,
   "metadata": {
    "_uuid": "fccfb866a2b4c702e0b2742f7c0289512d713d1b",
    "execution": {
     "iopub.execute_input": "2025-01-06T01:10:00.141831Z",
     "iopub.status.busy": "2025-01-06T01:10:00.141471Z",
     "iopub.status.idle": "2025-01-06T01:10:00.156577Z",
     "shell.execute_reply": "2025-01-06T01:10:00.154512Z",
     "shell.execute_reply.started": "2025-01-06T01:10:00.141772Z"
    },
    "trusted": true
   },
   "outputs": [],
   "source": [
    "# Since LSTMs store long term memory state, we create a data structure with 60 timesteps and 1 output\n",
    "# So for each element of training set, we have 60 previous training set elements \n",
    "X_train = []\n",
    "y_train = []\n",
    "for i in range(60,2769):\n",
    "    X_train.append(training_set_scaled[i-60:i,0])\n",
    "    y_train.append(training_set_scaled[i,0])\n",
    "X_train, y_train = np.array(X_train), np.array(y_train)"
   ]
  },
  {
   "cell_type": "code",
   "execution_count": 11,
   "metadata": {
    "_uuid": "637f699d3c4bde4b783de56ed4dd70a1bf59760d",
    "execution": {
     "iopub.execute_input": "2025-01-06T01:10:07.101698Z",
     "iopub.status.busy": "2025-01-06T01:10:07.101376Z",
     "iopub.status.idle": "2025-01-06T01:10:07.106580Z",
     "shell.execute_reply": "2025-01-06T01:10:07.105330Z",
     "shell.execute_reply.started": "2025-01-06T01:10:07.101648Z"
    },
    "trusted": true
   },
   "outputs": [],
   "source": [
    "# Reshaping X_train for efficient modelling\n",
    "X_train = np.reshape(X_train, (X_train.shape[0],X_train.shape[1],1))"
   ]
  },
  {
   "cell_type": "code",
   "execution_count": 13,
   "metadata": {
    "_uuid": "df20eb7e8062dae0a3aff2182aa440faddd0017d",
    "execution": {
     "iopub.execute_input": "2025-01-06T01:10:54.165371Z",
     "iopub.status.busy": "2025-01-06T01:10:54.165017Z",
     "iopub.status.idle": "2025-01-06T01:25:03.367531Z",
     "shell.execute_reply": "2025-01-06T01:25:03.366598Z",
     "shell.execute_reply.started": "2025-01-06T01:10:54.165312Z"
    },
    "trusted": true
   },
   "outputs": [
    {
     "name": "stdout",
     "output_type": "stream",
     "text": [
      "Epoch 1/50\n",
      "2709/2709 [==============================] - 22s 8ms/step - loss: 0.0217\n",
      "Epoch 2/50\n",
      "2709/2709 [==============================] - 18s 7ms/step - loss: 0.0098\n",
      "Epoch 3/50\n",
      "2709/2709 [==============================] - 17s 6ms/step - loss: 0.0079\n",
      "Epoch 4/50\n",
      "2709/2709 [==============================] - 17s 6ms/step - loss: 0.0067\n",
      "Epoch 5/50\n",
      "2709/2709 [==============================] - 17s 6ms/step - loss: 0.0057\n",
      "Epoch 6/50\n",
      "2709/2709 [==============================] - 17s 6ms/step - loss: 0.0052\n",
      "Epoch 7/50\n",
      "2709/2709 [==============================] - 17s 6ms/step - loss: 0.0049\n",
      "Epoch 8/50\n",
      "2709/2709 [==============================] - 18s 6ms/step - loss: 0.0043\n",
      "Epoch 9/50\n",
      "2709/2709 [==============================] - 17s 6ms/step - loss: 0.0040\n",
      "Epoch 10/50\n",
      "2709/2709 [==============================] - 17s 6ms/step - loss: 0.0040\n",
      "Epoch 11/50\n",
      "2709/2709 [==============================] - 17s 6ms/step - loss: 0.0035\n",
      "Epoch 12/50\n",
      "2709/2709 [==============================] - 17s 6ms/step - loss: 0.0034\n",
      "Epoch 13/50\n",
      "2709/2709 [==============================] - 17s 6ms/step - loss: 0.0031\n",
      "Epoch 14/50\n",
      "2709/2709 [==============================] - 17s 6ms/step - loss: 0.0032\n",
      "Epoch 15/50\n",
      "2709/2709 [==============================] - 17s 6ms/step - loss: 0.0029\n",
      "Epoch 16/50\n",
      "2709/2709 [==============================] - 17s 6ms/step - loss: 0.0029\n",
      "Epoch 17/50\n",
      "2709/2709 [==============================] - 17s 6ms/step - loss: 0.0028\n",
      "Epoch 18/50\n",
      "2709/2709 [==============================] - 17s 6ms/step - loss: 0.0027\n",
      "Epoch 19/50\n",
      "2709/2709 [==============================] - 17s 6ms/step - loss: 0.0026\n",
      "Epoch 20/50\n",
      "2709/2709 [==============================] - 17s 6ms/step - loss: 0.0024\n",
      "Epoch 21/50\n",
      "2709/2709 [==============================] - 17s 6ms/step - loss: 0.0025\n",
      "Epoch 22/50\n",
      "2709/2709 [==============================] - 17s 6ms/step - loss: 0.0024\n",
      "Epoch 23/50\n",
      "2709/2709 [==============================] - 17s 6ms/step - loss: 0.0022\n",
      "Epoch 24/50\n",
      "2709/2709 [==============================] - 17s 6ms/step - loss: 0.0022\n",
      "Epoch 25/50\n",
      "2709/2709 [==============================] - 17s 6ms/step - loss: 0.0022\n",
      "Epoch 26/50\n",
      "2709/2709 [==============================] - 16s 6ms/step - loss: 0.0022\n",
      "Epoch 27/50\n",
      "2709/2709 [==============================] - 17s 6ms/step - loss: 0.0022\n",
      "Epoch 28/50\n",
      "2709/2709 [==============================] - 16s 6ms/step - loss: 0.0021\n",
      "Epoch 29/50\n",
      "2709/2709 [==============================] - 17s 6ms/step - loss: 0.0018\n",
      "Epoch 30/50\n",
      "2709/2709 [==============================] - 16s 6ms/step - loss: 0.0019\n",
      "Epoch 31/50\n",
      "2709/2709 [==============================] - 17s 6ms/step - loss: 0.0019\n",
      "Epoch 32/50\n",
      "2709/2709 [==============================] - 16s 6ms/step - loss: 0.0018\n",
      "Epoch 33/50\n",
      "2709/2709 [==============================] - 17s 6ms/step - loss: 0.0018\n",
      "Epoch 34/50\n",
      "2709/2709 [==============================] - 16s 6ms/step - loss: 0.0017\n",
      "Epoch 35/50\n",
      "2709/2709 [==============================] - 17s 6ms/step - loss: 0.0017\n",
      "Epoch 36/50\n",
      "2709/2709 [==============================] - 16s 6ms/step - loss: 0.0017\n",
      "Epoch 37/50\n",
      "2709/2709 [==============================] - 17s 6ms/step - loss: 0.0017\n",
      "Epoch 38/50\n",
      "2709/2709 [==============================] - 16s 6ms/step - loss: 0.0017\n",
      "Epoch 39/50\n",
      "2709/2709 [==============================] - 17s 6ms/step - loss: 0.0017\n",
      "Epoch 40/50\n",
      "2709/2709 [==============================] - 16s 6ms/step - loss: 0.0016\n",
      "Epoch 41/50\n",
      "2709/2709 [==============================] - 17s 6ms/step - loss: 0.0016\n",
      "Epoch 42/50\n",
      "2709/2709 [==============================] - 17s 6ms/step - loss: 0.0015\n",
      "Epoch 43/50\n",
      "2709/2709 [==============================] - 17s 6ms/step - loss: 0.0016\n",
      "Epoch 44/50\n",
      "2709/2709 [==============================] - 16s 6ms/step - loss: 0.0015\n",
      "Epoch 45/50\n",
      "2709/2709 [==============================] - 17s 6ms/step - loss: 0.0016\n",
      "Epoch 46/50\n",
      "2709/2709 [==============================] - 16s 6ms/step - loss: 0.0015\n",
      "Epoch 47/50\n",
      "2709/2709 [==============================] - 16s 6ms/step - loss: 0.0015\n",
      "Epoch 48/50\n",
      "2709/2709 [==============================] - 16s 6ms/step - loss: 0.0015\n",
      "Epoch 49/50\n",
      "2709/2709 [==============================] - 16s 6ms/step - loss: 0.0015\n",
      "Epoch 50/50\n",
      "2709/2709 [==============================] - 16s 6ms/step - loss: 0.0014\n",
      "\n",
      "Temps d'exécution total de l'entraînement : 847.93 secondes\n"
     ]
    }
   ],
   "source": [
    "import time\n",
    "\n",
    "# The LSTM architecture\n",
    "regressor = Sequential()\n",
    "# First LSTM layer with Dropout regularisation\n",
    "regressor.add(LSTM(units=50, return_sequences=True, input_shape=(X_train.shape[1],1)))\n",
    "regressor.add(Dropout(0.2))\n",
    "# Second LSTM layer\n",
    "regressor.add(LSTM(units=50, return_sequences=True))\n",
    "regressor.add(Dropout(0.2))\n",
    "# Third LSTM layer\n",
    "regressor.add(LSTM(units=50, return_sequences=True))\n",
    "regressor.add(Dropout(0.2))\n",
    "# Fourth LSTM layer\n",
    "regressor.add(LSTM(units=50))\n",
    "regressor.add(Dropout(0.2))\n",
    "# The output layer\n",
    "regressor.add(Dense(units=1))\n",
    "\n",
    "# Compiling the RNN\n",
    "regressor.compile(optimizer='rmsprop',loss='mean_squared_error')\n",
    "# Fitting to the training set\n",
    "start_time = time.time()\n",
    "regressor.fit(X_train,y_train,epochs=50,batch_size=32)\n",
    "end_time = time.time()  \n",
    "execution_time = end_time - start_time\n",
    "print(f\"\\nTemps d'exécution total de l'entraînement : {execution_time:.2f} secondes\")"
   ]
  },
  {
   "cell_type": "code",
   "execution_count": 14,
   "metadata": {
    "_uuid": "326fa85615622feb484cc4c848edeec6f7133913",
    "execution": {
     "iopub.execute_input": "2025-01-06T01:26:39.538115Z",
     "iopub.status.busy": "2025-01-06T01:26:39.537753Z",
     "iopub.status.idle": "2025-01-06T01:26:39.547463Z",
     "shell.execute_reply": "2025-01-06T01:26:39.546249Z",
     "shell.execute_reply.started": "2025-01-06T01:26:39.538044Z"
    },
    "trusted": true
   },
   "outputs": [],
   "source": [
    "# Now to get the test set ready in a similar way as the training set.\n",
    "# The following has been done so forst 60 entires of test set have 60 previous values which is impossible to get unless we take the whole \n",
    "# 'High' attribute data for processing\n",
    "dataset_total = pd.concat((dataset[\"High\"][:'2016'],dataset[\"High\"]['2017':]),axis=0)\n",
    "inputs = dataset_total[len(dataset_total)-len(test_set) - 60:].values\n",
    "inputs = inputs.reshape(-1,1)\n",
    "inputs  = sc.transform(inputs)"
   ]
  },
  {
   "cell_type": "code",
   "execution_count": 15,
   "metadata": {
    "_uuid": "435b8024814939ac4fbd372baa0cd8cfc78f80bc",
    "execution": {
     "iopub.execute_input": "2025-01-06T01:26:47.840954Z",
     "iopub.status.busy": "2025-01-06T01:26:47.840609Z",
     "iopub.status.idle": "2025-01-06T01:26:48.676110Z",
     "shell.execute_reply": "2025-01-06T01:26:48.675257Z",
     "shell.execute_reply.started": "2025-01-06T01:26:47.840887Z"
    },
    "trusted": true
   },
   "outputs": [],
   "source": [
    "# Preparing X_test and predicting the prices\n",
    "X_test = []\n",
    "for i in range(60,311):\n",
    "    X_test.append(inputs[i-60:i,0])\n",
    "X_test = np.array(X_test)\n",
    "X_test = np.reshape(X_test, (X_test.shape[0],X_test.shape[1],1))\n",
    "predicted_stock_price = regressor.predict(X_test)\n",
    "predicted_stock_price = sc.inverse_transform(predicted_stock_price)"
   ]
  },
  {
   "cell_type": "code",
   "execution_count": 16,
   "metadata": {
    "_uuid": "b774a8e79e53eac89694cafef6b11aa99226b95f",
    "execution": {
     "iopub.execute_input": "2025-01-06T01:27:21.928578Z",
     "iopub.status.busy": "2025-01-06T01:27:21.928209Z",
     "iopub.status.idle": "2025-01-06T01:27:22.099662Z",
     "shell.execute_reply": "2025-01-06T01:27:22.098736Z",
     "shell.execute_reply.started": "2025-01-06T01:27:21.928513Z"
    },
    "trusted": true
   },
   "outputs": [
    {
     "data": {
      "image/png": "[encoded data removed]",
      "text/plain": [
       "<Figure size 432x288 with 1 Axes>"
      ]
     },
     "metadata": {
      "needs_background": "light"
     },
     "output_type": "display_data"
    }
   ],
   "source": [
    "# Visualizing the results for LSTM\n",
    "plot_predictions(test_set,predicted_stock_price)"
   ]
  },
  {
   "cell_type": "code",
   "execution_count": 17,
   "metadata": {
    "_uuid": "f6f6db0b6e1f17ac63c06ce49856873d98ba5f00",
    "execution": {
     "iopub.execute_input": "2025-01-06T01:27:49.457488Z",
     "iopub.status.busy": "2025-01-06T01:27:49.457088Z",
     "iopub.status.idle": "2025-01-06T01:27:49.462706Z",
     "shell.execute_reply": "2025-01-06T01:27:49.461615Z",
     "shell.execute_reply.started": "2025-01-06T01:27:49.457415Z"
    },
    "trusted": true
   },
   "outputs": [
    {
     "name": "stdout",
     "output_type": "stream",
     "text": [
      "The root mean squared error is 2.809445732251797.\n"
     ]
    }
   ],
   "source": [
    "# Evaluating our model\n",
    "return_rmse(test_set,predicted_stock_price)"
   ]
  }
 ],
 "metadata": {
  "kaggle": {
   "accelerator": "none",
   "dataSources": [
    {
     "datasetId": 8388,
     "sourceId": 11883,
     "sourceType": "datasetVersion"
    }
   ],
   "dockerImageVersionId": 12836,
   "isGpuEnabled": false,
   "isInternetEnabled": false,
   "language": "python",
   "sourceType": "notebook"
  },
  "kernelspec": {
   "display_name": "Python 3",
   "language": "python",
   "name": "python3"
  },
  "language_info": {
   "codemirror_mode": {
    "name": "ipython",
    "version": 3
   },
   "file_extension": ".py",
   "mimetype": "text/x-python",
   "name": "python",
   "nbconvert_exporter": "python",
   "pygments_lexer": "ipython3",
   "version": "3.6.6"
  }
 },
 "nbformat": 4,
 "nbformat_minor": 4
}
